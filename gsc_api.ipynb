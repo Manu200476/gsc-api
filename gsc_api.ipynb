{
 "cells": [
  {
   "cell_type": "markdown",
   "id": "3ae7b7ad-f9c5-4f75-a650-010f78287ba3",
   "metadata": {},
   "source": [
    "# Notebook para GSC\n",
    "\n",
    "Lo primero es instalar las dependencias"
   ]
  },
  {
   "cell_type": "code",
   "execution_count": null,
   "id": "4ef01977-c131-4fc2-b522-7e34abb503f4",
   "metadata": {
    "id": "4ef01977-c131-4fc2-b522-7e34abb503f4"
   },
   "outputs": [],
   "source": [
    "pip install pandas searchconsole matplotlib numpy"
   ]
  },
  {
   "cell_type": "markdown",
   "id": "5a935007-2b2f-4483-8fe9-1b60a099a67f",
   "metadata": {},
   "source": [
    "Importamos las librerias necesarias"
   ]
  },
  {
   "cell_type": "code",
   "execution_count": null,
   "id": "a8469e42-788a-405e-966f-9606ca63b3b8",
   "metadata": {
    "id": "a8469e42-788a-405e-966f-9606ca63b3b8"
   },
   "outputs": [],
   "source": [
    "import os\n",
    "import math\n",
    "import numpy as np\n",
    "import pandas as pd\n",
    "import searchconsole\n",
    "import matplotlib.pyplot as plt"
   ]
  },
  {
   "cell_type": "markdown",
   "id": "71855854-e795-4ef1-8467-48af575028e0",
   "metadata": {},
   "source": [
    "Nos autenticamos y damos permiso a google para acceder a gsc"
   ]
  },
  {
   "cell_type": "code",
   "execution_count": null,
   "id": "28381f16-0e64-4471-b6e9-6e599e417cbb",
   "metadata": {
    "colab": {
     "base_uri": "https://localhost:8080/",
     "height": 328
    },
    "id": "28381f16-0e64-4471-b6e9-6e599e417cbb",
    "outputId": "61a61bc3-d661-4421-ef33-1993c50f4037"
   },
   "outputs": [],
   "source": [
    "account = searchconsole.authenticate(client_config='client_secrets.json', serialize='credentials.json')"
   ]
  },
  {
   "cell_type": "code",
   "execution_count": null,
   "id": "8594857b-4998-417d-9697-c175d591f670",
   "metadata": {},
   "outputs": [],
   "source": [
    "Configuramos las variables para hacer funcionar la tool"
   ]
  },
  {
   "cell_type": "code",
   "execution_count": null,
   "id": "1a648d84-8582-4ff8-b61b-3ef31c8aaa6b",
   "metadata": {},
   "outputs": [],
   "source": [
    "brand_name = ''\n",
    "web = ''\n",
    "gsc_property = account[web]"
   ]
  },
  {
   "cell_type": "markdown",
   "id": "a1537e58-a44d-4591-b1ca-72fb568c7e84",
   "metadata": {},
   "source": [
    "Obtenemos todas las queries posibles y manipulamos los datos para que queden como nosotros queremos"
   ]
  },
  {
   "cell_type": "code",
   "execution_count": null,
   "id": "ba089d6d-20a4-4524-ad43-1ebc9ff095a4",
   "metadata": {},
   "outputs": [],
   "source": [
    "queries_df = gsc_property.query.range('today', days=-7).dimension('query').get().to_dataframe()\n",
    "\n",
    "queries_df['ctr'] = queries_df['ctr'].map(lambda a: round(a * 10, 2))\n",
    "queries_df['position'] = queries_df['position'].map(lambda a: round(a, 2))\n",
    "queries_df['brand'] = queries_df.apply(lambda row: 'No Branded' if row['query'].lower().find(brand_name) == -1 else 'Branded', axis=1)\n",
    "\n",
    "kws_position = []\n",
    "for position in queries_df['position']:\n",
    "    if position <= 3:\n",
    "        kws_position.append('1-3')\n",
    "    elif position <= 10:\n",
    "        kws_position.append('3-10')\n",
    "    elif position <= 50:\n",
    "        kws_position.append('10-50')\n",
    "    elif position <= 100:\n",
    "        kws_position.append('50-100')\n",
    "    else:\n",
    "        kws_position.append('+100')\n",
    "        \n",
    "queries_df['top'] = kws_position"
   ]
  },
  {
   "cell_type": "markdown",
   "id": "58760016-88f0-48c4-8f6f-37f53891828d",
   "metadata": {},
   "source": [
    "Obtenemos el porcentaje de kws branded y no branded"
   ]
  },
  {
   "cell_type": "code",
   "execution_count": null,
   "id": "02555edb-23cc-4c19-a18d-03d4ed70a8a4",
   "metadata": {},
   "outputs": [],
   "source": [
    "group_by_brand = queries_df.groupby(['brand']).count()\n",
    "branded = group_by_brand.iloc[0]['query']\n",
    "no_branded = group_by_brand.iloc[1]['query']\n",
    "labels = ['Branded', 'No Branded']\n",
    "porcentaje = [branded, no_branded]\n",
    "\n",
    "fig, ax = plt.subplots()\n",
    "ax.pie(porcentaje, radius=3, autopct='%1.1f%%', center=(4, 4), frame=True)\n",
    "ax.legend(labels)\n",
    "plt.axis('off')\n",
    "plt.show()\n",
    "\n",
    "print(f'Branded: {percentaje_branded}% | No Branded: {percentaje_no_branded}%')"
   ]
  },
  {
   "cell_type": "markdown",
   "id": "a60a8604-8f18-4ffd-8a64-13e0ef36f4eb",
   "metadata": {},
   "source": [
    "Obtenemos el CTR dependiendo si las kws son branded o no branded"
   ]
  },
  {
   "cell_type": "code",
   "execution_count": null,
   "id": "50f0909d-51d5-41ab-9d52-f228e5b56224",
   "metadata": {
    "id": "50f0909d-51d5-41ab-9d52-f228e5b56224"
   },
   "outputs": [],
   "source": [
    "brand_queries = queries_df.groupby(['brand']).sum()\n",
    "branded_queries_ctr = brand_queries.iloc[0]['ctr']\n",
    "no_branded_queries_ctr = brand_queries.iloc[1]['ctr']\n",
    "\n",
    "avg_ctr_no_branded = round(no_branded_queries_ctr / group_by_brand.iloc[1]['query'], 2)\n",
    "avg_ctr_branded = round(branded_queries_ctr / group_by_brand.iloc[0]['query'], 2)\n",
    "\n",
    "labels = ['Average CTR']\n",
    "\n",
    "x = np.arange(len(labels))\n",
    "width = 0.3\n",
    "\n",
    "fig, ax = plt.subplots()\n",
    "rects1 = ax.bar(x - width/2, avg_ctr_branded, width, label='Branded')\n",
    "rects2 = ax.bar(x + width/2, avg_ctr_no_branded, width, label='No Branded')\n",
    "\n",
    "ax.set_ylabel('CTR')\n",
    "ax.set_xticks(x, labels)\n",
    "ax.legend(loc='center left', bbox_to_anchor=(1, 0.5))\n",
    "\n",
    "ax.bar_label(rects1, padding=3, labels=[f'{avg_ctr_branded}%'], fontsize=14, label_type='center')\n",
    "ax.bar_label(rects2, padding=3, labels=[f'{avg_ctr_no_branded}%'], fontsize=14, label_type='center')\n",
    "\n",
    "fig.tight_layout()\n",
    "plt.show()\n",
    "\n",
    "print(f'CTR of Branded Kws: {avg_ctr_branded}% | CTR of No Branded Kws: {avg_ctr_no_branded}%')"
   ]
  },
  {
   "cell_type": "code",
   "execution_count": null,
   "id": "5bd42d09-5aad-4834-9ce4-731bf783b09c",
   "metadata": {},
   "outputs": [],
   "source": [
    "Sacamos un grafico de la distribucion de kws dependiendo si estan en top 1-2, 3-10...."
   ]
  },
  {
   "cell_type": "code",
   "execution_count": null,
   "id": "4bd0f7de-ce8a-4245-ae83-3ca73f45ca2a",
   "metadata": {
    "id": "4bd0f7de-ce8a-4245-ae83-3ca73f45ca2a"
   },
   "outputs": [],
   "source": [
    "top_position = queries_df.groupby(['top']).count()\n",
    "\n",
    "number_kws_1_3 = top_position.iloc[1]['query']\n",
    "number_kws_3_10 = top_position.iloc[3]['query']\n",
    "number_kws_10_50 = top_position.iloc[2]['query']\n",
    "number_kws_50_100 = top_position.iloc[4]['query']\n",
    "number_kws__100 = top_position.iloc[0]['query']\n",
    "\n",
    "kws_positions = [number_kws_1_3, number_kws_3_10, number_kws_10_50, number_kws_50_100, number_kws__100]\n",
    "\n",
    "fig, ax = plt.subplots()\n",
    "plt.margins(0.1)\n",
    "x_pos = np.arange(len(kws_positions))\n",
    "                                       \n",
    "bar = ax.bar(x_pos, kws_positions, align='center')\n",
    "ax.bar_label(bar, labels=kws_positions, padding = 3) \n",
    "ax.set_xticks(x_pos, labels=['1-3', '3-10', '10-50', '50-100', '+100'])\n",
    "ax.set_ylabel('Numero de Kws')\n",
    "ax.set_xlabel('Posiciones')\n",
    "ax.set_title('Kws Distribution')\n",
    "plt.axis('off')\n",
    "plt.show()"
   ]
  },
  {
   "cell_type": "code",
   "execution_count": null,
   "id": "2fd24d0a-f807-49d5-831b-c688e1f2ed52",
   "metadata": {},
   "outputs": [],
   "source": [
    "Sacamos el porcentaje de impresiones por dispositivos, Desktop, Mobile o Tablet"
   ]
  },
  {
   "cell_type": "code",
   "execution_count": null,
   "id": "c37b9bb2-2fe7-41e6-aef2-017bfe985ca8",
   "metadata": {},
   "outputs": [],
   "source": [
    "device_df = gsc_property.query.range('today', days=-7).dimension('device').get().to_dataframe()\n",
    "device_impressions = device_df['impressions']\n",
    "labels = ['Desktop', 'Mobile', 'Tablet']\n",
    "fig, ax = plt.subplots()\n",
    "plt.margins(0.1)\n",
    "plt.axis('off')\n",
    "ax.pie(device_impressions, radius=3, labels = labels, center=(4, 4), frame=True, autopct='%1.1f%%')\n",
    "ax.set_title('Impresiones por dispositivo')\n",
    "plt.show()"
   ]
  }
 ],
 "metadata": {
  "colab": {
   "collapsed_sections": [],
   "name": "gsc_api.ipynb",
   "provenance": []
  },
  "kernelspec": {
   "display_name": "Python 3 (ipykernel)",
   "language": "python",
   "name": "python3"
  },
  "language_info": {
   "codemirror_mode": {
    "name": "ipython",
    "version": 3
   },
   "file_extension": ".py",
   "mimetype": "text/x-python",
   "name": "python",
   "nbconvert_exporter": "python",
   "pygments_lexer": "ipython3",
   "version": "3.9.4"
  }
 },
 "nbformat": 4,
 "nbformat_minor": 5
}
